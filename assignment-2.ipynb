{
 "cells": [
  {
   "cell_type": "code",
   "execution_count": null,
   "id": "d44b442e-4488-4b41-b024-089bf6e38256",
   "metadata": {},
   "outputs": [],
   "source": []
  },
  {
   "cell_type": "code",
   "execution_count": 2,
   "id": "2dd3c0a5-f6ae-4b4e-b905-fb2c695942d3",
   "metadata": {},
   "outputs": [],
   "source": [
    "#Question = 1 ) explain with an example each when to use for loop and when loop?"
   ]
  },
  {
   "cell_type": "code",
   "execution_count": null,
   "id": "4b644bb3-32e7-4231-8aec-62584fb8d52c",
   "metadata": {},
   "outputs": [],
   "source": []
  },
  {
   "cell_type": "code",
   "execution_count": 3,
   "id": "bb5b2b9d-8a63-4728-9506-994083c339fe",
   "metadata": {},
   "outputs": [],
   "source": [
    "# FOR LOOP - for loop is a iteration method that is best used when you know the number of iteration ahead of time.\n",
    "# its always followed by the initialization, expression and increment statement."
   ]
  },
  {
   "cell_type": "code",
   "execution_count": 4,
   "id": "f5af5f05-2188-40f8-8a3b-ff4f1d0a4534",
   "metadata": {},
   "outputs": [],
   "source": [
    "## keyword = \"for\" used in for loop.\n",
    "## the for loop has 2 parts- header and body.\n",
    "## header- specifies the iteration of the loop,in this part the loop variable is also declared, which tells the bodywhich iteration is executed.\n",
    "## body- this part contain the statement executed per iteration."
   ]
  },
  {
   "cell_type": "code",
   "execution_count": 5,
   "id": "8ffac673-2ac9-41be-97e6-59d5bda434ab",
   "metadata": {},
   "outputs": [],
   "source": [
    "#syntax for, for loop;"
   ]
  },
  {
   "cell_type": "code",
   "execution_count": null,
   "id": "7ee4ed43-2373-4067-a4c2-c741af2da943",
   "metadata": {},
   "outputs": [],
   "source": [
    "sequence = [True,True] #initialisatin\n",
    "for iterator_var in sequence: #condition and updation\n",
    "    statements(s) #body of loop"
   ]
  },
  {
   "cell_type": "code",
   "execution_count": 9,
   "id": "d74eadf5-ab94-45ec-aa28-6cfba438d866",
   "metadata": {},
   "outputs": [],
   "source": [
    "###example for for loop given below;"
   ]
  },
  {
   "cell_type": "code",
   "execution_count": 10,
   "id": "b5adeda6-fe44-4d71-9549-996d4290d82e",
   "metadata": {},
   "outputs": [
    {
     "name": "stdout",
     "output_type": "stream",
     "text": [
      "1\n",
      "2\n",
      "3\n"
     ]
    }
   ],
   "source": [
    "n = [1,2,3]\n",
    "for i in n :\n",
    "    print(i)"
   ]
  },
  {
   "cell_type": "code",
   "execution_count": 11,
   "id": "a34f019a-91e7-40f1-9f05-fee1c1f89ebc",
   "metadata": {},
   "outputs": [],
   "source": [
    "# WHILE LOOP- while loop is an iteration method that is best used when you dont know the number of iteration ahead of time.\n",
    "#the contents of the loop are executed as long as expression evaluates to true."
   ]
  },
  {
   "cell_type": "code",
   "execution_count": null,
   "id": "00913e62-a81f-4a43-9bcb-5b5a6605a630",
   "metadata": {},
   "outputs": [],
   "source": []
  },
  {
   "cell_type": "code",
   "execution_count": 12,
   "id": "e3ed521e-e6c9-4736-995f-106c6ab27409",
   "metadata": {},
   "outputs": [],
   "source": [
    "#syntax for while loop given below"
   ]
  },
  {
   "cell_type": "code",
   "execution_count": null,
   "id": "ac8e08fa-0a98-466f-b1e5-192cc7890a02",
   "metadata": {},
   "outputs": [],
   "source": [
    "expression = True ###initialisation\n",
    "while expression: ###condition\n",
    "    statement(s)  ##body of loop"
   ]
  },
  {
   "cell_type": "code",
   "execution_count": 14,
   "id": "aad9c8e0-7da4-4249-b1c9-9f0557cecd13",
   "metadata": {},
   "outputs": [],
   "source": [
    "### example ###"
   ]
  },
  {
   "cell_type": "code",
   "execution_count": null,
   "id": "58e4972c-969f-4b19-b962-a598d7a31308",
   "metadata": {},
   "outputs": [],
   "source": [
    "i = 1 #initialisation\n",
    "while i < 6: #condition\n",
    "    print(i)\n",
    "    i += 1 #updation"
   ]
  },
  {
   "cell_type": "code",
   "execution_count": 21,
   "id": "fddff705-52c2-4d34-87b3-7ac935f8af26",
   "metadata": {},
   "outputs": [
    {
     "name": "stdout",
     "output_type": "stream",
     "text": [
      "1\n",
      "2\n",
      "3\n",
      "4\n",
      "5\n"
     ]
    }
   ],
   "source": [
    "i = 1 \n",
    "while i < 6 :\n",
    "    print(i)\n",
    "    i += 1"
   ]
  },
  {
   "cell_type": "code",
   "execution_count": 25,
   "id": "9096f40a-a713-4411-8a22-6ec40139e797",
   "metadata": {},
   "outputs": [],
   "source": [
    "### absence of condition in for loop and while loop; \n",
    "## the for loop will iterate infinite times...."
   ]
  },
  {
   "cell_type": "code",
   "execution_count": 26,
   "id": "bb20e48d-360e-4407-bc63-7b6b5376f045",
   "metadata": {},
   "outputs": [],
   "source": [
    "#example for for loop "
   ]
  },
  {
   "cell_type": "code",
   "execution_count": 27,
   "id": "533f13a7-ebcf-4c8f-908f-b33dced93201",
   "metadata": {},
   "outputs": [],
   "source": [
    "a = [1]\n",
    "for i in a :\n",
    "    print(\"scaler\")\n",
    "    "
   ]
  },
  {
   "cell_type": "code",
   "execution_count": null,
   "id": "8e09565f-789f-495c-b576-5f23f3ddf84c",
   "metadata": {},
   "outputs": [],
   "source": [
    "## while loop below run infinite times"
   ]
  },
  {
   "cell_type": "code",
   "execution_count": null,
   "id": "e1163db1-2948-4995-b141-71d31e613883",
   "metadata": {},
   "outputs": [],
   "source": [
    "while True :\n",
    "    print(\"hello\")"
   ]
  },
  {
   "cell_type": "code",
   "execution_count": null,
   "id": "a08392b0-1db1-460f-8231-832c630bac50",
   "metadata": {},
   "outputs": [],
   "source": []
  },
  {
   "cell_type": "code",
   "execution_count": null,
   "id": "f97a0354-c261-47b9-afd7-13dec009ad56",
   "metadata": {},
   "outputs": [],
   "source": []
  },
  {
   "cell_type": "code",
   "execution_count": null,
   "id": "fef4025c-89e3-4b07-9ab1-6f7cafd03da1",
   "metadata": {},
   "outputs": [],
   "source": [
    "### question 2 ##### sum of first 10 natural number using while loop"
   ]
  },
  {
   "cell_type": "code",
   "execution_count": 6,
   "id": "5fb3614b-d196-44af-9a18-f36b72c73a56",
   "metadata": {},
   "outputs": [
    {
     "name": "stdin",
     "output_type": "stream",
     "text": [
      "Enter a number: 10\n"
     ]
    },
    {
     "name": "stdout",
     "output_type": "stream",
     "text": [
      "the sum of first 10 n naturat number is 55\n"
     ]
    }
   ],
   "source": [
    "num = int(input(\"Enter a number:\"))\n",
    "sum = 0\n",
    "while num > 0:\n",
    "    sum = sum + num\n",
    "    num -= 1\n",
    "    \n",
    "print(f\"the sum of first 10 n naturat number is {sum}\")"
   ]
  },
  {
   "cell_type": "code",
   "execution_count": 7,
   "id": "72801016-cdb1-4019-9cd6-9ca3e16c73ff",
   "metadata": {},
   "outputs": [],
   "source": [
    "## by for loop"
   ]
  },
  {
   "cell_type": "code",
   "execution_count": 8,
   "id": "e1662a94-032d-427d-94e5-8a1db821e28e",
   "metadata": {},
   "outputs": [
    {
     "name": "stdin",
     "output_type": "stream",
     "text": [
      "enter the number: 10\n"
     ]
    },
    {
     "name": "stdout",
     "output_type": "stream",
     "text": [
      "the sum of first 10 n natural number is 55\n"
     ]
    }
   ],
   "source": [
    "n= int(input(\"enter the number:\"))\n",
    "sum = 0\n",
    "for value in range(1,n+1):\n",
    "    sum = sum + value\n",
    "    \n",
    "print(f\"the sum of first 10 n natural number is {sum}\")"
   ]
  },
  {
   "cell_type": "code",
   "execution_count": null,
   "id": "0c49b705-d8e7-4299-aed8-c72921992ca5",
   "metadata": {},
   "outputs": [],
   "source": []
  },
  {
   "cell_type": "code",
   "execution_count": 9,
   "id": "d1faadc2-b80d-4c00-83db-2534c6ce6bb1",
   "metadata": {},
   "outputs": [],
   "source": [
    "## question = 3\n"
   ]
  },
  {
   "cell_type": "code",
   "execution_count": null,
   "id": "8c7fdbfe-c8cb-4409-9946-5671c67e88db",
   "metadata": {},
   "outputs": [],
   "source": [
    "1 - 100 unit = 4.5 / unit\n",
    "101 - 200 unit = 6.0 / unit\n",
    "201 - 300 unit = 10.0 / unit\n",
    "above 300 unit = 20.0 / unit"
   ]
  },
  {
   "cell_type": "code",
   "execution_count": 11,
   "id": "80828ae1-20f6-4daf-bb8e-f70b4a6e7467",
   "metadata": {},
   "outputs": [],
   "source": [
    "total_electricity_bill = (100*4.5) + (100*6.0) + (100*10.0) + (10*20)"
   ]
  },
  {
   "cell_type": "code",
   "execution_count": 12,
   "id": "1583131a-b638-45a4-bb92-642c718c887e",
   "metadata": {},
   "outputs": [
    {
     "data": {
      "text/plain": [
       "2250.0"
      ]
     },
     "execution_count": 12,
     "metadata": {},
     "output_type": "execute_result"
    }
   ],
   "source": [
    "total_electricity_bill"
   ]
  },
  {
   "cell_type": "code",
   "execution_count": null,
   "id": "90e83646-c8f9-4cad-a3aa-ea71e67da1d4",
   "metadata": {},
   "outputs": [],
   "source": []
  },
  {
   "cell_type": "code",
   "execution_count": 1,
   "id": "58bcc0bc-3489-419a-8d5d-9798b68a09e7",
   "metadata": {},
   "outputs": [],
   "source": [
    "# question = 4"
   ]
  },
  {
   "cell_type": "code",
   "execution_count": 2,
   "id": "a6174cf0-7023-4b75-b5d4-89552c5a0dc4",
   "metadata": {},
   "outputs": [],
   "source": [
    "# for loop"
   ]
  },
  {
   "cell_type": "code",
   "execution_count": 5,
   "id": "ec24bda9-e65c-40f8-a831-c9aa1cb62b3a",
   "metadata": {},
   "outputs": [
    {
     "name": "stdout",
     "output_type": "stream",
     "text": [
      "[0, 2, 4, 5, 6, 8, 10, 12, 14, 15, 16, 18, 20, 22, 24, 25, 26, 28, 30, 32, 34, 35, 36, 38, 40, 42, 44, 45, 46, 48, 50, 52, 54, 55, 56, 58, 60, 62, 64, 65, 66, 68, 70, 72, 74, 75, 76, 78, 80, 82, 84, 85, 86, 88, 90, 92, 94, 95, 96, 98, 100]\n"
     ]
    }
   ],
   "source": [
    "l = list(range(0,101))\n",
    "\n",
    "newlist = []\n",
    "\n",
    "for i in l:\n",
    "    x = i**3\n",
    "    if x%4==0 or x%5 ==0:\n",
    "        newlist.append(i)\n",
    "print(newlist)        "
   ]
  },
  {
   "cell_type": "code",
   "execution_count": 6,
   "id": "6e7023c4-e305-4483-a55c-048b29c7cf77",
   "metadata": {},
   "outputs": [],
   "source": [
    "# for while loop"
   ]
  },
  {
   "cell_type": "code",
   "execution_count": 10,
   "id": "09ae0953-3fe6-4e83-9801-16ea87293bd4",
   "metadata": {},
   "outputs": [
    {
     "name": "stdout",
     "output_type": "stream",
     "text": [
      "[2, 4, 5, 6, 8, 10, 12, 14, 15, 16, 18, 20, 22, 24, 25, 26, 28, 30, 32, 34, 35, 36, 38, 40, 42, 44, 45, 46, 48, 50, 52, 54, 55, 56, 58, 60, 62, 64, 65, 66, 68, 70, 72, 74, 75, 76, 78, 80, 82, 84, 85, 86, 88, 90, 92, 94, 95, 96, 98, 100]\n"
     ]
    }
   ],
   "source": [
    "new_list=[]\n",
    "i = 1\n",
    "while i <= len(l):\n",
    "    x = i**3\n",
    "    if x%4 == 0 or x%5 ==0:\n",
    "        new_list.append(i)\n",
    "        \n",
    "    i += 1\n",
    "print(new_list)"
   ]
  },
  {
   "cell_type": "code",
   "execution_count": null,
   "id": "9ccdf350-d91a-47bb-9542-b87d144c4cc8",
   "metadata": {},
   "outputs": [],
   "source": []
  },
  {
   "cell_type": "code",
   "execution_count": null,
   "id": "f8ceb6ec-8bfe-46ee-80ec-00e5749eed50",
   "metadata": {},
   "outputs": [],
   "source": [
    "#question 5"
   ]
  },
  {
   "cell_type": "code",
   "execution_count": 3,
   "id": "f325c40b-1c6e-4d32-ac7b-986e44a6699f",
   "metadata": {},
   "outputs": [
    {
     "name": "stdout",
     "output_type": "stream",
     "text": [
      "number of vowels: 11\n"
     ]
    }
   ],
   "source": [
    "def vowel_count(str):\n",
    "    count = 0\n",
    "    vowel = set(\"aeiouAeiou\")\n",
    "    \n",
    "    for alphabet in str:\n",
    "        if alphabet in vowel:\n",
    "            count=count+1\n",
    "            \n",
    "    print(\"number of vowels:\",count)\n",
    "    \n",
    "str = 'i want to become data scientist'\n",
    "vowel_count(str)    \n",
    "    \n",
    "    "
   ]
  }
 ],
 "metadata": {
  "kernelspec": {
   "display_name": "Python 3 (ipykernel)",
   "language": "python",
   "name": "python3"
  },
  "language_info": {
   "codemirror_mode": {
    "name": "ipython",
    "version": 3
   },
   "file_extension": ".py",
   "mimetype": "text/x-python",
   "name": "python",
   "nbconvert_exporter": "python",
   "pygments_lexer": "ipython3",
   "version": "3.10.8"
  }
 },
 "nbformat": 4,
 "nbformat_minor": 5
}
